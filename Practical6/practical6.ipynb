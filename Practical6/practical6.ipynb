{
 "cells": [
  {
   "cell_type": "code",
   "execution_count": 8,
   "id": "dcab8e74-10c9-46fc-99cc-a1bd0cbd983e",
   "metadata": {},
   "outputs": [],
   "source": [
    "import pandas as pd\n",
    "from sklearn.model_selection import train_test_split\n",
    "from sklearn.tree import DecisionTreeClassifier, plot_tree\n",
    "from sklearn.metrics import accuracy_score, confusion_matrix\n",
    "import matplotlib.pyplot as plt"
   ]
  },
  {
   "cell_type": "code",
   "execution_count": 9,
   "id": "235ac964-ee8d-4a33-8084-21ebcbb98b76",
   "metadata": {},
   "outputs": [],
   "source": [
    "url = \"https://raw.githubusercontent.com/jbrownlee/Datasets/master/pima-indians-diabetes.data.csv\""
   ]
  },
  {
   "cell_type": "code",
   "execution_count": 11,
   "id": "349c2db5-90fe-476e-b24e-1cae3e0bf16c",
   "metadata": {},
   "outputs": [],
   "source": [
    "cols = ['Pregnancies','Glucose','BloodPressure','SkinThickness','Insulin','BMI','DiabetesPedigreeFunction','Age','Outcome']"
   ]
  },
  {
   "cell_type": "code",
   "execution_count": 12,
   "id": "fab09ad0-2326-4502-9f93-7c50ab4a8681",
   "metadata": {},
   "outputs": [
    {
     "data": {
      "text/plain": [
       "['Pregnancies',\n",
       " 'Glucose',\n",
       " 'BloodPressure',\n",
       " 'SkinThickness',\n",
       " 'Insulin',\n",
       " 'BMI',\n",
       " 'DiabetesPedigreeFunction',\n",
       " 'Age',\n",
       " 'Outcome']"
      ]
     },
     "execution_count": 12,
     "metadata": {},
     "output_type": "execute_result"
    }
   ],
   "source": [
    "cols"
   ]
  },
  {
   "cell_type": "code",
   "execution_count": 13,
   "id": "f8c9a411-194f-4531-9512-ba1f4b12caa0",
   "metadata": {},
   "outputs": [],
   "source": [
    "df = pd.read_csv(url, names = cols)"
   ]
  },
  {
   "cell_type": "code",
   "execution_count": 15,
   "id": "d6c0e9ec-4c2a-476c-bd84-372e1c6c8479",
   "metadata": {},
   "outputs": [],
   "source": [
    "#Split features and target\n",
    "X = df.drop('Outcome',axis=1)\n",
    "y = df['Outcome']\n"
   ]
  },
  {
   "cell_type": "code",
   "execution_count": 16,
   "id": "25f4c90f-419c-4861-9009-385c5b19ee3f",
   "metadata": {},
   "outputs": [],
   "source": [
    "#Train/Test split\n",
    "X_train, X_test, y_train, y_test = train_test_split(X, y, test_size = 0.2, random_state = 42)"
   ]
  },
  {
   "cell_type": "code",
   "execution_count": null,
   "id": "39051e8a-ba83-438b-9997-ebdc373c9ad2",
   "metadata": {},
   "outputs": [],
   "source": []
  }
 ],
 "metadata": {
  "kernelspec": {
   "display_name": "Python 3 (ipykernel)",
   "language": "python",
   "name": "python3"
  },
  "language_info": {
   "codemirror_mode": {
    "name": "ipython",
    "version": 3
   },
   "file_extension": ".py",
   "mimetype": "text/x-python",
   "name": "python",
   "nbconvert_exporter": "python",
   "pygments_lexer": "ipython3",
   "version": "3.13.5"
  }
 },
 "nbformat": 4,
 "nbformat_minor": 5
}
